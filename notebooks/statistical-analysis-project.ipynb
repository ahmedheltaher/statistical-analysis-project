{
 "cells": [
  {
   "cell_type": "markdown",
   "id": "d43cd03b",
   "metadata": {},
   "source": [
    "Importing all need modules"
   ]
  },
  {
   "cell_type": "code",
   "execution_count": 1,
   "id": "0a3dcf8c",
   "metadata": {},
   "outputs": [],
   "source": [
    "import math\n",
    "\n",
    "import numpy\n",
    "import pandas\n",
    "import statsmodels.api as sm\n",
    "from sklearn import linear_model"
   ]
  },
  {
   "cell_type": "markdown",
   "id": "0f12413e",
   "metadata": {},
   "source": [
    "Reading the CSV"
   ]
  },
  {
   "cell_type": "code",
   "execution_count": null,
   "id": "563d7bf8",
   "metadata": {},
   "outputs": [],
   "source": [
    "heart_data = pandas.read_csv(\"https://raw.githubusercontent.com/ahmedheltaher/statistical-analysis-project/master/heart.csv\")"
   ]
  },
  {
   "cell_type": "markdown",
   "id": "7a533d7e",
   "metadata": {},
   "source": [
    "Data Setup for the model"
   ]
  },
  {
   "cell_type": "code",
   "execution_count": null,
   "id": "54d7d7f5",
   "metadata": {},
   "outputs": [],
   "source": [
    "heart_data['Sex'] = (heart_data['Sex'] == 'M').astype(int)\n",
    "\n",
    "chest_pain_types = {'ATA': 0, 'NAP': 1, 'ASY': 2, 'TA': 3}\n",
    "heart_data['ChestPainType'].replace(chest_pain_types, inplace=True)\n",
    "\n",
    "heart_data['ExerciseAngina'] = (\n",
    "    heart_data['ExerciseAngina'] == 'Y').astype(int)"
   ]
  },
  {
   "cell_type": "markdown",
   "id": "54aca770",
   "metadata": {},
   "source": [
    "Regression model with all fields except the ECG related ones"
   ]
  },
  {
   "cell_type": "code",
   "execution_count": null,
   "id": "4aed38fb",
   "metadata": {},
   "outputs": [],
   "source": [
    "x_train = numpy.array(heart_data[['Age', 'Sex', 'ChestPainType', 'RestingBP', 'Cholesterol',\n",
    "                                  'FastingBS', 'MaxHR', 'ExerciseAngina', 'Oldpeak']])\n",
    "y_train = numpy.array(heart_data['HeartDisease'])\n",
    "\n",
    "regressor = linear_model.LinearRegression()\n",
    "regressor.fit(x_train, y_train)"
   ]
  },
  {
   "cell_type": "markdown",
   "id": "160b0f58",
   "metadata": {},
   "source": [
    "Function to convert the value of the liner regression to a logistic regression since we need to classify and bigamizing the output using 0.5 as threshold"
   ]
  },
  {
   "cell_type": "code",
   "execution_count": null,
   "id": "80f18534",
   "metadata": {},
   "outputs": [],
   "source": [
    "def logisticPredication(x, regressor: linear_model.LinearRegression) -> int():\n",
    "    return (1 / (1 + math.exp(-(-regressor.intercept_ + x)))) > 0.5"
   ]
  },
  {
   "cell_type": "markdown",
   "id": "0706138b",
   "metadata": {},
   "source": [
    "The Prediction function"
   ]
  },
  {
   "cell_type": "code",
   "execution_count": null,
   "id": "fd3c8a79",
   "metadata": {},
   "outputs": [],
   "source": [
    "def predict(data: list) -> int():\n",
    "    predict = regressor.predict([data])\n",
    "    return logisticPredication(x=predict, regressor=regressor)"
   ]
  },
  {
   "cell_type": "markdown",
   "id": "d39e5ee6",
   "metadata": {},
   "source": [
    "Calculating the value of R^2"
   ]
  },
  {
   "cell_type": "code",
   "execution_count": null,
   "id": "9042362e",
   "metadata": {},
   "outputs": [],
   "source": [
    "result = sm.OLS(y_train,  sm.add_constant(x_train)).fit()\n",
    "print(result.rsquared, result.rsquared_adj)"
   ]
  }
 ],
 "metadata": {
  "kernelspec": {
   "display_name": "Python 3 (ipykernel)",
   "language": "python",
   "name": "python3"
  },
  "language_info": {
   "codemirror_mode": {
    "name": "ipython",
    "version": 3
   },
   "file_extension": ".py",
   "mimetype": "text/x-python",
   "name": "python",
   "nbconvert_exporter": "python",
   "pygments_lexer": "ipython3",
   "version": "3.9.9"
  }
 },
 "nbformat": 4,
 "nbformat_minor": 5
}
