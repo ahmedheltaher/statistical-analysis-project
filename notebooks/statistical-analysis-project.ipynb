{
 "cells": [
  {
   "cell_type": "markdown",
   "id": "d43cd03b",
   "metadata": {},
   "source": [
    "Importing all need modules"
   ]
  },
  {
   "cell_type": "code",
   "execution_count": 1,
   "id": "0a3dcf8c",
   "metadata": {},
   "outputs": [],
   "source": [
    "import math\n",
    "\n",
    "import matplotlib.pyplot as plotter\n",
    "import numpy\n",
    "import pandas\n",
    "from sklearn import linear_model\n",
    "from sklearn.metrics import mean_squared_error"
   ]
  },
  {
   "cell_type": "markdown",
   "id": "0f12413e",
   "metadata": {},
   "source": [
    "Reading the CSV"
   ]
  },
  {
   "cell_type": "code",
   "execution_count": null,
   "id": "563d7bf8",
   "metadata": {},
   "outputs": [],
   "source": [
    "heart_data = pandas.read_csv(\"https://raw.githubusercontent.com/ahmedheltaher/statistical-analysis-project/master/heart.csv\")"
   ]
  },
  {
   "cell_type": "markdown",
   "id": "7a533d7e",
   "metadata": {},
   "source": [
    "Data Setup for the model"
   ]
  },
  {
   "cell_type": "code",
   "execution_count": null,
   "id": "54d7d7f5",
   "metadata": {},
   "outputs": [],
   "source": [
    "heart_data['Sex'] = (heart_data['Sex'] == 'M').astype(int)\n",
    "\n",
    "chest_pain_types = {'ATA': 0, 'NAP': 1, 'ASY': 2, 'TA': 3}\n",
    "heart_data['ChestPainType'].replace(chest_pain_types, inplace=True)\n",
    "\n",
    "heart_data['ExerciseAngina'] = (\n",
    "    heart_data['ExerciseAngina'] == 'Y').astype(int)"
   ]
  },
  {
   "cell_type": "markdown",
   "id": "54aca770",
   "metadata": {},
   "source": [
    "Regression model with all fields except the ECG related ones"
   ]
  },
  {
   "cell_type": "code",
   "execution_count": null,
   "id": "4aed38fb",
   "metadata": {},
   "outputs": [],
   "source": [
    "x_train_features = ['Age', 'Sex', 'ChestPainType', 'RestingBP',\n",
    "                    'Cholesterol', 'FastingBS', 'MaxHR', 'ExerciseAngina', 'Oldpeak']\n",
    "x_train = numpy.array(heart_data[x_train_features])\n",
    "y_train = numpy.array(heart_data['HeartDisease'])\n",
    "\n",
    "regressor = linear_model.LinearRegression()\n",
    "regressor.fit(x_train, y_train)"
   ]
  },
  {
   "cell_type": "markdown",
   "id": "160b0f58",
   "metadata": {},
   "source": [
    "Function to convert the value of the liner regression to a logistic regression since we need to classify and bigamizing the output using 0.5 as threshold"
   ]
  },
  {
   "cell_type": "code",
   "execution_count": null,
   "id": "80f18534",
   "metadata": {},
   "outputs": [],
   "source": [
    "def logisticPredication(x, regressor: linear_model.LinearRegression) -> int():\n",
    "    return (1 / (1 + math.exp(-(-regressor.intercept_ + x)))) > 0.5"
   ]
  },
  {
   "cell_type": "markdown",
   "id": "0706138b",
   "metadata": {},
   "source": [
    "The Prediction function"
   ]
  },
  {
   "cell_type": "code",
   "execution_count": null,
   "id": "fd3c8a79",
   "metadata": {},
   "outputs": [],
   "source": [
    "def predict(data: list) -> int():\n",
    "    predict = regressor.predict([data])\n",
    "    return logisticPredication(x=predict, regressor=regressor)"
   ]
  },
  {
   "cell_type": "markdown",
   "id": "d39e5ee6",
   "metadata": {},
   "source": [
    "Calculating the value of R^2"
   ]
  },
  {
   "cell_type": "code",
   "execution_count": null,
   "id": "9042362e",
   "metadata": {},
   "outputs": [],
   "source": [
    "print(\"R ^ 2:\", regressor.score(x_train, y_train))"
   ]
  },
  {
   "cell_type": "markdown",
   "id": "dff51e99",
   "metadata": {},
   "source": [
    "Calculating the Mean squared error "
   ]
  },
  {
   "cell_type": "code",
   "execution_count": null,
   "id": "6f2d5a9c",
   "metadata": {},
   "outputs": [],
   "source": [
    "y_prediction = regressor.predict(x_train)\n",
    "print(\"Mean squared error: \",\n",
    "      mean_squared_error(y_train, y_prediction))"
   ]
  },
  {
   "cell_type": "markdown",
   "id": "e0685f12",
   "metadata": {},
   "source": [
    "finding coefficients and sort them by the most effecting ones"
   ]
  },
  {
   "cell_type": "code",
   "execution_count": null,
   "id": "dbcd7630",
   "metadata": {},
   "outputs": [],
   "source": [
    "coefficients = {feature: regressor.coef_[index] for (\n",
    "    index, feature) in enumerate(x_train_features)}\n",
    "\n",
    "coefficients = dict(sorted(coefficients.items(),\n",
    "                    key=lambda item: item[1], reverse=True))"
   ]
  },
  {
   "cell_type": "markdown",
   "id": "3b380359",
   "metadata": {},
   "source": [
    "Plotting the liner regression behavior for the top 2 effecting features "
   ]
  },
  {
   "cell_type": "code",
   "execution_count": null,
   "id": "6a6b701e",
   "metadata": {},
   "outputs": [],
   "source": [
    "x_surf, y_surf = numpy.meshgrid(numpy.linspace(heart_data[list(coefficients.keys())[0]].min(), heart_data[list(coefficients.keys())[0]].max(\n",
    "), 27), numpy.linspace(heart_data[list(coefficients.keys())[1]].min(), heart_data[list(coefficients.keys())[1]].max(), 34))\n",
    "\n",
    "\n",
    "fittedY = regressor.predict(x_train)\n",
    "\n",
    "# convert the predicted result in an array\n",
    "fittedY = numpy.array(fittedY).reshape(x_surf.shape)\n",
    "\n",
    "\n",
    "# Visualize the Data for Multiple Linear Regression\n",
    "fig = plotter.figure()\n",
    "ax = fig.add_subplot(111, projection='3d')\n",
    "ax.scatter(heart_data[list(coefficients.keys())[0]], heart_data[list(coefficients.keys())[1]], heart_data['HeartDisease'],\n",
    "           c='red', marker='o', alpha=0.5)\n",
    "ax.plot_surface(x_surf, y_surf, fittedY, color='b', alpha=0.3)\n",
    "ax.set_xlabel(list(coefficients.keys())[0])\n",
    "ax.set_ylabel(list(coefficients.keys())[0])\n",
    "ax.set_zlabel('HeartDisease')\n",
    "plotter.show()\n"
   ]
  }
 ],
 "metadata": {
  "kernelspec": {
   "display_name": "Python 3 (ipykernel)",
   "language": "python",
   "name": "python3"
  },
  "language_info": {
   "codemirror_mode": {
    "name": "ipython",
    "version": 3
   },
   "file_extension": ".py",
   "mimetype": "text/x-python",
   "name": "python",
   "nbconvert_exporter": "python",
   "pygments_lexer": "ipython3",
   "version": "3.9.9"
  }
 },
 "nbformat": 4,
 "nbformat_minor": 5
}
