{
 "cells": [
  {
   "cell_type": "markdown",
   "id": "cc5f5a14",
   "metadata": {},
   "source": [
    "Importing all need moduls"
   ]
  },
  {
   "cell_type": "code",
   "execution_count": 1,
   "id": "b8210f3c",
   "metadata": {},
   "outputs": [],
   "source": [
    "import numpy\n",
    "import pandas\n",
    "from sklearn import linear_model"
   ]
  },
  {
   "cell_type": "markdown",
   "id": "f24fdb2b",
   "metadata": {},
   "source": [
    "Reading the CSV"
   ]
  },
  {
   "cell_type": "code",
   "execution_count": null,
   "id": "99eb1dd6",
   "metadata": {},
   "outputs": [],
   "source": [
    "heart_data = pandas.read_csv(\"https://raw.githubusercontent.com/ahmedheltaher/statistical-analysis-project/master/heart.csv\")"
   ]
  },
  {
   "cell_type": "markdown",
   "id": "e1e1a7a1",
   "metadata": {},
   "source": [
    "Data Setup for the model"
   ]
  },
  {
   "cell_type": "code",
   "execution_count": null,
   "id": "304ae3ac",
   "metadata": {},
   "outputs": [],
   "source": [
    "heart_data['Sex'] = (heart_data['Sex'] == 'M').astype(int)\n",
    "\n",
    "chest_pain_types = {'ATA': 0, 'NAP': 1, 'ASY': 2, 'TA': 3}\n",
    "heart_data['ChestPainType'].replace(chest_pain_types, inplace=True)\n",
    "\n",
    "heart_data['ExerciseAngina'] = (\n",
    "    heart_data['ExerciseAngina'] == 'Y').astype(int)"
   ]
  },
  {
   "cell_type": "markdown",
   "id": "fe6ae164",
   "metadata": {},
   "source": [
    "Regression model with all fields except the ECG related ones"
   ]
  },
  {
   "cell_type": "code",
   "execution_count": null,
   "id": "db624eb9",
   "metadata": {},
   "outputs": [],
   "source": [
    "x_train = numpy.array(heart_data[['Age', 'Sex', 'ChestPainType', 'RestingBP', 'Cholesterol',\n",
    "                                  'FastingBS', 'MaxHR', 'ExerciseAngina', 'Oldpeak']])\n",
    "y_train = numpy.array(heart_data['HeartDisease'])\n",
    "\n",
    "regressor = linear_model.LinearRegression()\n",
    "regressor.fit(x_train, y_train)"
   ]
  },
  {
   "cell_type": "markdown",
   "id": "1bf03bdf",
   "metadata": {},
   "source": [
    "Function to convert the value of the liner regression to a logistic regression since we need to classify and binarizing the output using 0.5 as threshold"
   ]
  },
  {
   "cell_type": "code",
   "execution_count": null,
   "id": "5ea6010d",
   "metadata": {},
   "outputs": [],
   "source": [
    "def logisticPredication(x, regressor: linear_model.LinearRegression) -> int():\n",
    "    return (1 / (1 + math.exp(-(-regressor.intercept_ + x)))) > 0.5"
   ]
  },
  {
   "cell_type": "markdown",
   "id": "4a8fbe9a",
   "metadata": {},
   "source": [
    "The Prediction functin"
   ]
  },
  {
   "cell_type": "code",
   "execution_count": null,
   "id": "75327f52",
   "metadata": {},
   "outputs": [],
   "source": [
    "def predict(data: list) -> int():\n",
    "    predict = regressor.predict([data])\n",
    "    return logisticPredication(x=predict, regressor=regressor)"
   ]
  }
 ],
 "metadata": {
  "kernelspec": {
   "display_name": "Python 3 (ipykernel)",
   "language": "python",
   "name": "python3"
  },
  "language_info": {
   "codemirror_mode": {
    "name": "ipython",
    "version": 3
   },
   "file_extension": ".py",
   "mimetype": "text/x-python",
   "name": "python",
   "nbconvert_exporter": "python",
   "pygments_lexer": "ipython3",
   "version": "3.9.9"
  }
 },
 "nbformat": 4,
 "nbformat_minor": 5
}
